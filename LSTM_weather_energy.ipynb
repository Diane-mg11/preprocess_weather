{
  "nbformat": 4,
  "nbformat_minor": 0,
  "metadata": {
    "colab": {
      "provenance": [],
      "authorship_tag": "ABX9TyPBxDqEKB/35vIhjqHvdR7g"
    },
    "kernelspec": {
      "name": "python3",
      "display_name": "Python 3"
    },
    "language_info": {
      "name": "python"
    }
  },
  "cells": [
    {
      "cell_type": "code",
      "execution_count": null,
      "metadata": {
        "colab": {
          "base_uri": "https://localhost:8080/"
        },
        "id": "dGFPCCYU5T3U",
        "outputId": "04e1f496-3b3e-4aa2-e11c-bbb547886b5c"
      },
      "outputs": [
        {
          "output_type": "stream",
          "name": "stdout",
          "text": [
            "Mounted at /content/drive\n"
          ]
        }
      ],
      "source": [
        "from google.colab import drive\n",
        "drive.mount('/content/drive')"
      ]
    },
    {
      "cell_type": "code",
      "source": [
        "import pandas as pd\n",
        "import numpy as np\n",
        "from tensorflow.keras.models import Sequential\n",
        "from tensorflow.keras.layers import LSTM, Dense\n",
        "from sklearn.preprocessing import MinMaxScaler"
      ],
      "metadata": {
        "id": "eTk3qY51_Jq4"
      },
      "execution_count": null,
      "outputs": []
    },
    {
      "cell_type": "code",
      "source": [
        "# 訓練檔案路徑\n",
        "train_folder = '/content/drive/MyDrive/太陽能競賽/training_data'\n",
        "test_file = '/content/drive/MyDrive/太陽能競賽/official_test/upload(no answer).csv'\n",
        "output_file = f'{train_folder}/upload(no answer)-temp.csv'"
      ],
      "metadata": {
        "id": "tYMp6nfA_Mr6"
      },
      "execution_count": null,
      "outputs": []
    },
    {
      "cell_type": "code",
      "source": [
        "# 設定超參數\n",
        "LOOKBACK = 60  # 以過去60分鐘資料預測下一步\n",
        "EPOCHS = 3    # 訓練回合數\n",
        "BATCH_SIZE = 32\n",
        "FEATURES = [\"WindSpeed(m/s)\", \"Pressure(hpa)\", \"Temperature(°C)\", \"Humidity(%)\", \"Sunlight(Lux)\"]"
      ],
      "metadata": {
        "id": "BhmbcWfe_WuN"
      },
      "execution_count": null,
      "outputs": []
    },
    {
      "cell_type": "code",
      "source": [
        "# 資料處理函數\n",
        "def preprocess_train_data(file_path, lookback=LOOKBACK):\n",
        "    df = pd.read_csv(file_path)\n",
        "    df[\"DateTime\"] = pd.to_datetime(df[\"DateTime\"])\n",
        "    df = df.sort_values(\"DateTime\").reset_index(drop=True)\n",
        "    df = df[FEATURES]\n",
        "\n",
        "    # 正規化\n",
        "    scaler = MinMaxScaler()\n",
        "    data_scaled = scaler.fit_transform(df)\n",
        "\n",
        "    # 製作LSTM輸入格式\n",
        "    X, y = [], []\n",
        "    for i in range(len(data_scaled) - lookback):\n",
        "        X.append(data_scaled[i:i+lookback])\n",
        "        y.append(data_scaled[i+lookback])\n",
        "    return np.array(X), np.array(y), scaler\n",
        "\n",
        "def preprocess_test_data(file_path, location_code):\n",
        "    df = pd.read_csv(file_path)\n",
        "    df[\"DateTime\"] = pd.to_datetime(df[\"DATE\"].astype(str).str[:12], format=\"%Y%m%d%H%M\")\n",
        "    df[\"LocationCode\"] = df[\"DATE\"].astype(str).str[-2:].astype(int)\n",
        "    df = df[df[\"LocationCode\"] == location_code]\n",
        "    # 選擇FEATURES中的特徵，與訓練資料一致\n",
        "    df = df[[\"DateTime\"] + FEATURES] #  Include DateTime and FEATURES\n",
        "    df = df.sort_values(\"DateTime\").reset_index(drop=True) # Sort by DateTime\n",
        "    # 移除 DateTime 欄位\n",
        "    df = df[FEATURES] # Select only FEATURES\n",
        "    return df.reset_index(drop=True)\n",
        "\n",
        "# 模型建構函數\n",
        "def build_model(input_shape):\n",
        "    model = Sequential([\n",
        "        LSTM(64, input_shape=input_shape, return_sequences=True),\n",
        "        LSTM(32),\n",
        "        Dense(len(FEATURES))\n",
        "    ])\n",
        "    model.compile(optimizer=\"adam\", loss=\"mse\")\n",
        "    return model"
      ],
      "metadata": {
        "id": "ZwFWXVI4_YYV"
      },
      "execution_count": null,
      "outputs": []
    },
    {
      "cell_type": "code",
      "source": [
        "# 主迴圈：針對每個地區與上下半年進行訓練與預測\n",
        "results = []\n",
        "for location in range(1, 18):\n",
        "    for half in [\"上半年\", \"下半年\"]:\n",
        "        # 選擇資料範圍\n",
        "        file_path = f\"{train_folder}/L{location}_Train.csv\"\n",
        "        df = pd.read_csv(file_path)\n",
        "        if half == \"上半年\":\n",
        "            df = df[df[\"DateTime\"].str[:7].between(\"2024-01\", \"2024-06\")]\n",
        "        else:\n",
        "            df = df[df[\"DateTime\"].str[:7] >= \"2024-07\"]\n",
        "\n",
        "        # 資料預處理\n",
        "        X_train, y_train, scaler = preprocess_train_data(file_path)\n",
        "\n",
        "        # 模型建立與訓練\n",
        "        model = build_model(X_train.shape[1:])\n",
        "        model.fit(X_train, y_train, epochs=EPOCHS, batch_size=BATCH_SIZE, verbose=1)\n",
        "\n",
        "        # 預測\n",
        "        test_data = preprocess_test_data(test_file, location)\n",
        "        X_test = []\n",
        "        for i in range(len(test_data) - LOOKBACK):\n",
        "            X_test.append(test_data[i:i+LOOKBACK])\n",
        "        X_test = np.array(X_test)\n",
        "        predictions = model.predict(X_test)\n",
        "        predictions = scaler.inverse_transform(predictions)\n",
        "\n",
        "        # 儲存結果\n",
        "        for i, pred in enumerate(predictions):\n",
        "            results.append({\n",
        "                \"DATE\": test_data.loc[i + LOOKBACK, \"DATE\"],\n",
        "                \"WindSpeed(m/s)\": pred[0],\n",
        "                \"Pressure(hpa)\": pred[1],\n",
        "                \"Temperature(°C)\": pred[2],\n",
        "                \"Humidity(%)\": pred[3],\n",
        "                \"Sunlight(Lux)\": pred[4],\n",
        "            })\n",
        "\n",
        "# 將結果存成新的CSV檔\n",
        "results_df = pd.DataFrame(results)\n",
        "results_df.to_csv(output_file, index=False)\n",
        "print(f\"預測結果已儲存至 {output_file}\")"
      ],
      "metadata": {
        "id": "7XBo71QG_hSh"
      },
      "execution_count": null,
      "outputs": []
    }
  ]
}